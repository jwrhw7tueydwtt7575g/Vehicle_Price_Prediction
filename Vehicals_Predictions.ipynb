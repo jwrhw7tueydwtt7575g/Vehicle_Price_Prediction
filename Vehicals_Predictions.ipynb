{
 "cells": [
  {
   "cell_type": "code",
   "execution_count": 3,
   "id": "8d52c104-3091-4ae2-8bef-256df9ad270a",
   "metadata": {},
   "outputs": [
    {
     "data": {
      "text/html": [
       "<div>\n",
       "<style scoped>\n",
       "    .dataframe tbody tr th:only-of-type {\n",
       "        vertical-align: middle;\n",
       "    }\n",
       "\n",
       "    .dataframe tbody tr th {\n",
       "        vertical-align: top;\n",
       "    }\n",
       "\n",
       "    .dataframe thead th {\n",
       "        text-align: right;\n",
       "    }\n",
       "</style>\n",
       "<table border=\"1\" class=\"dataframe\">\n",
       "  <thead>\n",
       "    <tr style=\"text-align: right;\">\n",
       "      <th></th>\n",
       "      <th>name</th>\n",
       "      <th>description</th>\n",
       "      <th>make</th>\n",
       "      <th>model</th>\n",
       "      <th>year</th>\n",
       "      <th>price</th>\n",
       "      <th>engine</th>\n",
       "      <th>cylinders</th>\n",
       "      <th>fuel</th>\n",
       "      <th>mileage</th>\n",
       "      <th>transmission</th>\n",
       "      <th>trim</th>\n",
       "      <th>body</th>\n",
       "      <th>doors</th>\n",
       "      <th>exterior_color</th>\n",
       "      <th>interior_color</th>\n",
       "      <th>drivetrain</th>\n",
       "    </tr>\n",
       "  </thead>\n",
       "  <tbody>\n",
       "    <tr>\n",
       "      <th>0</th>\n",
       "      <td>2024 Jeep Wagoneer Series II</td>\n",
       "      <td>\\n      \\n        Heated Leather Seats, Nav Sy...</td>\n",
       "      <td>Jeep</td>\n",
       "      <td>Wagoneer</td>\n",
       "      <td>2024</td>\n",
       "      <td>74600.0</td>\n",
       "      <td>24V GDI DOHC Twin Turbo</td>\n",
       "      <td>6.0</td>\n",
       "      <td>Gasoline</td>\n",
       "      <td>10.0</td>\n",
       "      <td>8-Speed Automatic</td>\n",
       "      <td>Series II</td>\n",
       "      <td>SUV</td>\n",
       "      <td>4.0</td>\n",
       "      <td>White</td>\n",
       "      <td>Global Black</td>\n",
       "      <td>Four-wheel Drive</td>\n",
       "    </tr>\n",
       "    <tr>\n",
       "      <th>1</th>\n",
       "      <td>2024 Jeep Grand Cherokee Laredo</td>\n",
       "      <td>Al West is committed to offering every custome...</td>\n",
       "      <td>Jeep</td>\n",
       "      <td>Grand Cherokee</td>\n",
       "      <td>2024</td>\n",
       "      <td>50170.0</td>\n",
       "      <td>OHV</td>\n",
       "      <td>6.0</td>\n",
       "      <td>Gasoline</td>\n",
       "      <td>1.0</td>\n",
       "      <td>8-Speed Automatic</td>\n",
       "      <td>Laredo</td>\n",
       "      <td>SUV</td>\n",
       "      <td>4.0</td>\n",
       "      <td>Metallic</td>\n",
       "      <td>Global Black</td>\n",
       "      <td>Four-wheel Drive</td>\n",
       "    </tr>\n",
       "  </tbody>\n",
       "</table>\n",
       "</div>"
      ],
      "text/plain": [
       "                              name  \\\n",
       "0     2024 Jeep Wagoneer Series II   \n",
       "1  2024 Jeep Grand Cherokee Laredo   \n",
       "\n",
       "                                         description  make           model  \\\n",
       "0  \\n      \\n        Heated Leather Seats, Nav Sy...  Jeep        Wagoneer   \n",
       "1  Al West is committed to offering every custome...  Jeep  Grand Cherokee   \n",
       "\n",
       "   year    price                   engine  cylinders      fuel  mileage  \\\n",
       "0  2024  74600.0  24V GDI DOHC Twin Turbo        6.0  Gasoline     10.0   \n",
       "1  2024  50170.0                      OHV        6.0  Gasoline      1.0   \n",
       "\n",
       "        transmission       trim body  doors exterior_color interior_color  \\\n",
       "0  8-Speed Automatic  Series II  SUV    4.0          White   Global Black   \n",
       "1  8-Speed Automatic     Laredo  SUV    4.0       Metallic   Global Black   \n",
       "\n",
       "         drivetrain  \n",
       "0  Four-wheel Drive  \n",
       "1  Four-wheel Drive  "
      ]
     },
     "execution_count": 3,
     "metadata": {},
     "output_type": "execute_result"
    }
   ],
   "source": [
    "import pandas as pd\n",
    "df = pd.read_csv(r\"C:\\Users\\mohan\\Desktop\\Vehical Price prrdictions\\dataset.csv\")\n",
    "df.head(2)"
   ]
  },
  {
   "cell_type": "code",
   "execution_count": 4,
   "id": "a4b1f9c6-d096-4b0d-8654-077b26166597",
   "metadata": {},
   "outputs": [
    {
     "name": "stdout",
     "output_type": "stream",
     "text": [
      "<class 'pandas.core.frame.DataFrame'>\n",
      "RangeIndex: 1002 entries, 0 to 1001\n",
      "Data columns (total 17 columns):\n",
      " #   Column          Non-Null Count  Dtype  \n",
      "---  ------          --------------  -----  \n",
      " 0   name            1002 non-null   object \n",
      " 1   description     946 non-null    object \n",
      " 2   make            1002 non-null   object \n",
      " 3   model           1002 non-null   object \n",
      " 4   year            1002 non-null   int64  \n",
      " 5   price           979 non-null    float64\n",
      " 6   engine          1000 non-null   object \n",
      " 7   cylinders       897 non-null    float64\n",
      " 8   fuel            995 non-null    object \n",
      " 9   mileage         968 non-null    float64\n",
      " 10  transmission    1000 non-null   object \n",
      " 11  trim            1001 non-null   object \n",
      " 12  body            999 non-null    object \n",
      " 13  doors           995 non-null    float64\n",
      " 14  exterior_color  997 non-null    object \n",
      " 15  interior_color  964 non-null    object \n",
      " 16  drivetrain      1002 non-null   object \n",
      "dtypes: float64(4), int64(1), object(12)\n",
      "memory usage: 133.2+ KB\n"
     ]
    }
   ],
   "source": [
    "df.info()\n"
   ]
  },
  {
   "cell_type": "code",
   "execution_count": 5,
   "id": "d9e164d2-727e-4024-8852-df1dcaeba528",
   "metadata": {},
   "outputs": [
    {
     "data": {
      "text/plain": [
       "name                0\n",
       "description        56\n",
       "make                0\n",
       "model               0\n",
       "year                0\n",
       "price              23\n",
       "engine              2\n",
       "cylinders         105\n",
       "fuel                7\n",
       "mileage            34\n",
       "transmission        2\n",
       "trim                1\n",
       "body                3\n",
       "doors               7\n",
       "exterior_color      5\n",
       "interior_color     38\n",
       "drivetrain          0\n",
       "dtype: int64"
      ]
     },
     "execution_count": 5,
     "metadata": {},
     "output_type": "execute_result"
    }
   ],
   "source": [
    "df.isnull().sum()"
   ]
  },
  {
   "cell_type": "code",
   "execution_count": 8,
   "id": "54c3cfca-e29e-4bd7-942b-9fc52e95abf8",
   "metadata": {},
   "outputs": [],
   "source": [
    "df_cleaned = df.dropna(axis=0)"
   ]
  },
  {
   "cell_type": "code",
   "execution_count": 9,
   "id": "8430673e-4849-45da-a570-6a6de6c8f6b2",
   "metadata": {},
   "outputs": [
    {
     "data": {
      "text/plain": [
       "name              0\n",
       "description       0\n",
       "make              0\n",
       "model             0\n",
       "year              0\n",
       "price             0\n",
       "engine            0\n",
       "cylinders         0\n",
       "fuel              0\n",
       "mileage           0\n",
       "transmission      0\n",
       "trim              0\n",
       "body              0\n",
       "doors             0\n",
       "exterior_color    0\n",
       "interior_color    0\n",
       "drivetrain        0\n",
       "dtype: int64"
      ]
     },
     "execution_count": 9,
     "metadata": {},
     "output_type": "execute_result"
    }
   ],
   "source": [
    "df_cleaned.isnull().sum()"
   ]
  },
  {
   "cell_type": "code",
   "execution_count": 10,
   "id": "1697acb5-11a3-4f78-b760-60d7ff9cd744",
   "metadata": {},
   "outputs": [
    {
     "data": {
      "text/html": [
       "<div>\n",
       "<style scoped>\n",
       "    .dataframe tbody tr th:only-of-type {\n",
       "        vertical-align: middle;\n",
       "    }\n",
       "\n",
       "    .dataframe tbody tr th {\n",
       "        vertical-align: top;\n",
       "    }\n",
       "\n",
       "    .dataframe thead th {\n",
       "        text-align: right;\n",
       "    }\n",
       "</style>\n",
       "<table border=\"1\" class=\"dataframe\">\n",
       "  <thead>\n",
       "    <tr style=\"text-align: right;\">\n",
       "      <th></th>\n",
       "      <th>name</th>\n",
       "      <th>description</th>\n",
       "      <th>make</th>\n",
       "      <th>model</th>\n",
       "      <th>year</th>\n",
       "      <th>price</th>\n",
       "      <th>engine</th>\n",
       "      <th>cylinders</th>\n",
       "      <th>fuel</th>\n",
       "      <th>mileage</th>\n",
       "      <th>transmission</th>\n",
       "      <th>trim</th>\n",
       "      <th>body</th>\n",
       "      <th>doors</th>\n",
       "      <th>exterior_color</th>\n",
       "      <th>interior_color</th>\n",
       "      <th>drivetrain</th>\n",
       "    </tr>\n",
       "  </thead>\n",
       "  <tbody>\n",
       "    <tr>\n",
       "      <th>0</th>\n",
       "      <td>2024 Jeep Wagoneer Series II</td>\n",
       "      <td>\\n      \\n        Heated Leather Seats, Nav Sy...</td>\n",
       "      <td>Jeep</td>\n",
       "      <td>Wagoneer</td>\n",
       "      <td>2024</td>\n",
       "      <td>74600.0</td>\n",
       "      <td>24V GDI DOHC Twin Turbo</td>\n",
       "      <td>6.0</td>\n",
       "      <td>Gasoline</td>\n",
       "      <td>10.0</td>\n",
       "      <td>8-Speed Automatic</td>\n",
       "      <td>Series II</td>\n",
       "      <td>SUV</td>\n",
       "      <td>4.0</td>\n",
       "      <td>White</td>\n",
       "      <td>Global Black</td>\n",
       "      <td>Four-wheel Drive</td>\n",
       "    </tr>\n",
       "    <tr>\n",
       "      <th>1</th>\n",
       "      <td>2024 Jeep Grand Cherokee Laredo</td>\n",
       "      <td>Al West is committed to offering every custome...</td>\n",
       "      <td>Jeep</td>\n",
       "      <td>Grand Cherokee</td>\n",
       "      <td>2024</td>\n",
       "      <td>50170.0</td>\n",
       "      <td>OHV</td>\n",
       "      <td>6.0</td>\n",
       "      <td>Gasoline</td>\n",
       "      <td>1.0</td>\n",
       "      <td>8-Speed Automatic</td>\n",
       "      <td>Laredo</td>\n",
       "      <td>SUV</td>\n",
       "      <td>4.0</td>\n",
       "      <td>Metallic</td>\n",
       "      <td>Global Black</td>\n",
       "      <td>Four-wheel Drive</td>\n",
       "    </tr>\n",
       "  </tbody>\n",
       "</table>\n",
       "</div>"
      ],
      "text/plain": [
       "                              name  \\\n",
       "0     2024 Jeep Wagoneer Series II   \n",
       "1  2024 Jeep Grand Cherokee Laredo   \n",
       "\n",
       "                                         description  make           model  \\\n",
       "0  \\n      \\n        Heated Leather Seats, Nav Sy...  Jeep        Wagoneer   \n",
       "1  Al West is committed to offering every custome...  Jeep  Grand Cherokee   \n",
       "\n",
       "   year    price                   engine  cylinders      fuel  mileage  \\\n",
       "0  2024  74600.0  24V GDI DOHC Twin Turbo        6.0  Gasoline     10.0   \n",
       "1  2024  50170.0                      OHV        6.0  Gasoline      1.0   \n",
       "\n",
       "        transmission       trim body  doors exterior_color interior_color  \\\n",
       "0  8-Speed Automatic  Series II  SUV    4.0          White   Global Black   \n",
       "1  8-Speed Automatic     Laredo  SUV    4.0       Metallic   Global Black   \n",
       "\n",
       "         drivetrain  \n",
       "0  Four-wheel Drive  \n",
       "1  Four-wheel Drive  "
      ]
     },
     "execution_count": 10,
     "metadata": {},
     "output_type": "execute_result"
    }
   ],
   "source": [
    "df_cleaned.head(2)"
   ]
  },
  {
   "cell_type": "code",
   "execution_count": 15,
   "id": "ac7d4c12-078b-4c00-99b2-f3f5cab7801f",
   "metadata": {},
   "outputs": [
    {
     "name": "stdout",
     "output_type": "stream",
     "text": [
      "<class 'pandas.core.frame.DataFrame'>\n",
      "Index: 750 entries, 0 to 1001\n",
      "Data columns (total 17 columns):\n",
      " #   Column          Non-Null Count  Dtype  \n",
      "---  ------          --------------  -----  \n",
      " 0   name            750 non-null    object \n",
      " 1   description     750 non-null    object \n",
      " 2   make            750 non-null    object \n",
      " 3   model           750 non-null    object \n",
      " 4   year            750 non-null    int64  \n",
      " 5   price           750 non-null    float64\n",
      " 6   engine          750 non-null    object \n",
      " 7   cylinders       750 non-null    float64\n",
      " 8   fuel            750 non-null    object \n",
      " 9   mileage         750 non-null    float64\n",
      " 10  transmission    750 non-null    object \n",
      " 11  trim            750 non-null    object \n",
      " 12  body            750 non-null    object \n",
      " 13  doors           750 non-null    float64\n",
      " 14  exterior_color  750 non-null    object \n",
      " 15  interior_color  750 non-null    object \n",
      " 16  drivetrain      750 non-null    object \n",
      "dtypes: float64(4), int64(1), object(12)\n",
      "memory usage: 105.5+ KB\n"
     ]
    }
   ],
   "source": [
    "df_cleaned.info()"
   ]
  },
  {
   "cell_type": "code",
   "execution_count": 11,
   "id": "0ae17374-5b36-43b4-a4c6-33e839e55fbb",
   "metadata": {},
   "outputs": [],
   "source": [
    "X = df_cleaned.drop('price',axis=1)\n",
    "y = df_cleaned['price']"
   ]
  },
  {
   "cell_type": "code",
   "execution_count": 12,
   "id": "29393ef7-cec0-4fa2-873e-1ea5f084af82",
   "metadata": {},
   "outputs": [],
   "source": [
    "from sklearn.model_selection import train_test_split\n",
    "X_train, X_test, y_train, y_test = train_test_split(X, y, test_size=0.2, random_state=42)"
   ]
  },
  {
   "cell_type": "code",
   "execution_count": 13,
   "id": "2dd27e39-e0b5-4386-a8d5-d677722d1460",
   "metadata": {},
   "outputs": [
    {
     "data": {
      "text/plain": [
       "(600, 16)"
      ]
     },
     "execution_count": 13,
     "metadata": {},
     "output_type": "execute_result"
    }
   ],
   "source": [
    "X_train.shape"
   ]
  },
  {
   "cell_type": "code",
   "execution_count": 14,
   "id": "11ce4015-70f9-4ab1-a3c5-ea8db7862673",
   "metadata": {},
   "outputs": [
    {
     "data": {
      "text/plain": [
       "(150, 16)"
      ]
     },
     "execution_count": 14,
     "metadata": {},
     "output_type": "execute_result"
    }
   ],
   "source": [
    "X_test.shape"
   ]
  },
  {
   "cell_type": "code",
   "execution_count": 17,
   "id": "327d0146-ff70-439b-990c-d3c0e4da0572",
   "metadata": {},
   "outputs": [
    {
     "name": "stdout",
     "output_type": "stream",
     "text": [
      "Collecting catboost\n",
      "  Downloading catboost-1.2.8-cp312-cp312-win_amd64.whl.metadata (1.5 kB)\n",
      "Collecting graphviz (from catboost)\n",
      "  Downloading graphviz-0.20.3-py3-none-any.whl.metadata (12 kB)\n",
      "Requirement already satisfied: matplotlib in c:\\users\\mohan\\anaconda3\\lib\\site-packages (from catboost) (3.9.2)\n",
      "Requirement already satisfied: numpy<3.0,>=1.16.0 in c:\\users\\mohan\\anaconda3\\lib\\site-packages (from catboost) (1.26.4)\n",
      "Requirement already satisfied: pandas>=0.24 in c:\\users\\mohan\\anaconda3\\lib\\site-packages (from catboost) (2.2.2)\n",
      "Requirement already satisfied: scipy in c:\\users\\mohan\\anaconda3\\lib\\site-packages (from catboost) (1.13.1)\n",
      "Requirement already satisfied: plotly in c:\\users\\mohan\\anaconda3\\lib\\site-packages (from catboost) (5.24.1)\n",
      "Requirement already satisfied: six in c:\\users\\mohan\\anaconda3\\lib\\site-packages (from catboost) (1.16.0)\n",
      "Requirement already satisfied: python-dateutil>=2.8.2 in c:\\users\\mohan\\anaconda3\\lib\\site-packages (from pandas>=0.24->catboost) (2.9.0.post0)\n",
      "Requirement already satisfied: pytz>=2020.1 in c:\\users\\mohan\\anaconda3\\lib\\site-packages (from pandas>=0.24->catboost) (2024.1)\n",
      "Requirement already satisfied: tzdata>=2022.7 in c:\\users\\mohan\\anaconda3\\lib\\site-packages (from pandas>=0.24->catboost) (2023.3)\n",
      "Requirement already satisfied: contourpy>=1.0.1 in c:\\users\\mohan\\anaconda3\\lib\\site-packages (from matplotlib->catboost) (1.2.0)\n",
      "Requirement already satisfied: cycler>=0.10 in c:\\users\\mohan\\anaconda3\\lib\\site-packages (from matplotlib->catboost) (0.11.0)\n",
      "Requirement already satisfied: fonttools>=4.22.0 in c:\\users\\mohan\\anaconda3\\lib\\site-packages (from matplotlib->catboost) (4.51.0)\n",
      "Requirement already satisfied: kiwisolver>=1.3.1 in c:\\users\\mohan\\anaconda3\\lib\\site-packages (from matplotlib->catboost) (1.4.4)\n",
      "Requirement already satisfied: packaging>=20.0 in c:\\users\\mohan\\anaconda3\\lib\\site-packages (from matplotlib->catboost) (24.1)\n",
      "Requirement already satisfied: pillow>=8 in c:\\users\\mohan\\anaconda3\\lib\\site-packages (from matplotlib->catboost) (10.4.0)\n",
      "Requirement already satisfied: pyparsing>=2.3.1 in c:\\users\\mohan\\anaconda3\\lib\\site-packages (from matplotlib->catboost) (3.1.2)\n",
      "Requirement already satisfied: tenacity>=6.2.0 in c:\\users\\mohan\\anaconda3\\lib\\site-packages (from plotly->catboost) (8.2.3)\n",
      "Downloading catboost-1.2.8-cp312-cp312-win_amd64.whl (102.4 MB)\n",
      "   ---------------------------------------- 0.0/102.4 MB ? eta -:--:--\n",
      "   ---------------------------------------- 0.0/102.4 MB ? eta -:--:--\n",
      "   ---------------------------------------- 0.5/102.4 MB 1.7 MB/s eta 0:01:01\n",
      "   ---------------------------------------- 0.8/102.4 MB 1.5 MB/s eta 0:01:10\n",
      "   ---------------------------------------- 1.0/102.4 MB 1.7 MB/s eta 0:01:01\n",
      "   ---------------------------------------- 1.0/102.4 MB 1.7 MB/s eta 0:01:01\n",
      "   ---------------------------------------- 1.0/102.4 MB 1.7 MB/s eta 0:01:01\n",
      "   ---------------------------------------- 1.0/102.4 MB 1.7 MB/s eta 0:01:01\n",
      "    --------------------------------------- 1.3/102.4 MB 737.4 kB/s eta 0:02:18\n",
      "    --------------------------------------- 1.6/102.4 MB 847.3 kB/s eta 0:02:00\n",
      "    --------------------------------------- 2.1/102.4 MB 1.0 MB/s eta 0:01:40\n",
      "   - -------------------------------------- 2.9/102.4 MB 1.3 MB/s eta 0:01:20\n",
      "   - -------------------------------------- 3.7/102.4 MB 1.5 MB/s eta 0:01:08\n",
      "   - -------------------------------------- 3.9/102.4 MB 1.5 MB/s eta 0:01:06\n",
      "   - -------------------------------------- 3.9/102.4 MB 1.5 MB/s eta 0:01:06\n",
      "   - -------------------------------------- 4.5/102.4 MB 1.4 MB/s eta 0:01:09\n",
      "   -- ------------------------------------- 5.2/102.4 MB 1.6 MB/s eta 0:01:02\n",
      "   -- ------------------------------------- 6.0/102.4 MB 1.7 MB/s eta 0:00:57\n",
      "   -- ------------------------------------- 7.1/102.4 MB 1.9 MB/s eta 0:00:51\n",
      "   --- ------------------------------------ 8.1/102.4 MB 2.0 MB/s eta 0:00:47\n",
      "   --- ------------------------------------ 8.9/102.4 MB 2.2 MB/s eta 0:00:44\n",
      "   ---- ----------------------------------- 10.5/102.4 MB 2.4 MB/s eta 0:00:39\n",
      "   ---- ----------------------------------- 11.8/102.4 MB 2.6 MB/s eta 0:00:36\n",
      "   ----- ---------------------------------- 12.8/102.4 MB 2.7 MB/s eta 0:00:33\n",
      "   ----- ---------------------------------- 14.4/102.4 MB 2.9 MB/s eta 0:00:31\n",
      "   ------ --------------------------------- 16.0/102.4 MB 3.1 MB/s eta 0:00:29\n",
      "   ------ --------------------------------- 17.8/102.4 MB 3.3 MB/s eta 0:00:26\n",
      "   ------- -------------------------------- 18.9/102.4 MB 3.4 MB/s eta 0:00:25\n",
      "   -------- ------------------------------- 21.2/102.4 MB 3.6 MB/s eta 0:00:23\n",
      "   --------- ------------------------------ 23.3/102.4 MB 3.8 MB/s eta 0:00:21\n",
      "   --------- ------------------------------ 25.2/102.4 MB 4.0 MB/s eta 0:00:20\n",
      "   ---------- ----------------------------- 27.5/102.4 MB 4.2 MB/s eta 0:00:18\n",
      "   ----------- ---------------------------- 29.9/102.4 MB 4.5 MB/s eta 0:00:17\n",
      "   ------------ --------------------------- 32.2/102.4 MB 4.7 MB/s eta 0:00:16\n",
      "   ------------ --------------------------- 32.5/102.4 MB 4.7 MB/s eta 0:00:16\n",
      "   ------------ --------------------------- 32.5/102.4 MB 4.7 MB/s eta 0:00:16\n",
      "   ------------- -------------------------- 33.8/102.4 MB 4.5 MB/s eta 0:00:16\n",
      "   ------------- -------------------------- 34.9/102.4 MB 4.5 MB/s eta 0:00:15\n",
      "   -------------- ------------------------- 38.0/102.4 MB 4.7 MB/s eta 0:00:14\n",
      "   --------------- ------------------------ 40.6/102.4 MB 4.9 MB/s eta 0:00:13\n",
      "   ---------------- ----------------------- 43.5/102.4 MB 5.2 MB/s eta 0:00:12\n",
      "   ------------------ --------------------- 46.4/102.4 MB 5.4 MB/s eta 0:00:11\n",
      "   ------------------- -------------------- 49.8/102.4 MB 5.6 MB/s eta 0:00:10\n",
      "   -------------------- ------------------- 53.5/102.4 MB 5.9 MB/s eta 0:00:09\n",
      "   --------------------- ------------------ 56.1/102.4 MB 6.0 MB/s eta 0:00:08\n",
      "   ----------------------- ---------------- 60.0/102.4 MB 6.3 MB/s eta 0:00:07\n",
      "   ------------------------ --------------- 64.0/102.4 MB 6.6 MB/s eta 0:00:06\n",
      "   ------------------------- -------------- 66.1/102.4 MB 6.7 MB/s eta 0:00:06\n",
      "   ------------------------- -------------- 66.1/102.4 MB 6.7 MB/s eta 0:00:06\n",
      "   ------------------------- -------------- 66.1/102.4 MB 6.7 MB/s eta 0:00:06\n",
      "   ------------------------- -------------- 66.1/102.4 MB 6.7 MB/s eta 0:00:06\n",
      "   -------------------------- ------------- 67.1/102.4 MB 6.2 MB/s eta 0:00:06\n",
      "   -------------------------- ------------- 67.1/102.4 MB 6.2 MB/s eta 0:00:06\n",
      "   -------------------------- ------------- 67.9/102.4 MB 6.1 MB/s eta 0:00:06\n",
      "   --------------------------- ------------ 71.3/102.4 MB 6.3 MB/s eta 0:00:05\n",
      "   ----------------------------- ---------- 75.8/102.4 MB 6.5 MB/s eta 0:00:05\n",
      "   ------------------------------- -------- 80.0/102.4 MB 6.7 MB/s eta 0:00:04\n",
      "   -------------------------------- ------- 82.8/102.4 MB 6.9 MB/s eta 0:00:03\n",
      "   --------------------------------- ------ 86.8/102.4 MB 7.0 MB/s eta 0:00:03\n",
      "   ----------------------------------- ---- 90.4/102.4 MB 7.2 MB/s eta 0:00:02\n",
      "   ------------------------------------- -- 94.9/102.4 MB 7.4 MB/s eta 0:00:02\n",
      "   ------------------------------------- -- 97.3/102.4 MB 7.5 MB/s eta 0:00:01\n",
      "   ---------------------------------------  102.2/102.4 MB 7.8 MB/s eta 0:00:01\n",
      "   ---------------------------------------  102.2/102.4 MB 7.8 MB/s eta 0:00:01\n",
      "   ---------------------------------------- 102.4/102.4 MB 7.6 MB/s eta 0:00:00\n",
      "Downloading graphviz-0.20.3-py3-none-any.whl (47 kB)\n",
      "Installing collected packages: graphviz, catboost\n",
      "Successfully installed catboost-1.2.8 graphviz-0.20.3\n"
     ]
    }
   ],
   "source": [
    "!pip install catboost\n"
   ]
  },
  {
   "cell_type": "code",
   "execution_count": 19,
   "id": "4e9f134b-8324-4a47-8f3a-3d2a8ffb899c",
   "metadata": {},
   "outputs": [
    {
     "name": "stdout",
     "output_type": "stream",
     "text": [
      "0:\tlearn: 16060.4713835\ttotal: 194ms\tremaining: 3m 13s\n",
      "100:\tlearn: 5492.1320351\ttotal: 6.91s\tremaining: 1m 1s\n",
      "200:\tlearn: 4011.1259163\ttotal: 13.9s\tremaining: 55.2s\n",
      "300:\tlearn: 3211.3595287\ttotal: 20.9s\tremaining: 48.6s\n",
      "400:\tlearn: 2617.9974182\ttotal: 28s\tremaining: 41.9s\n",
      "500:\tlearn: 2182.0805123\ttotal: 35.1s\tremaining: 34.9s\n",
      "600:\tlearn: 1857.5289722\ttotal: 42.2s\tremaining: 28s\n",
      "700:\tlearn: 1586.6161043\ttotal: 49.2s\tremaining: 21s\n",
      "800:\tlearn: 1353.3795303\ttotal: 56.3s\tremaining: 14s\n",
      "900:\tlearn: 1166.7004528\ttotal: 1m 3s\tremaining: 6.96s\n",
      "999:\tlearn: 1033.7913853\ttotal: 1m 10s\tremaining: 0us\n"
     ]
    }
   ],
   "source": [
    "import pandas as pd\n",
    "from catboost import CatBoostRegressor, Pool\n",
    "from sklearn.model_selection import train_test_split\n",
    "from sklearn.metrics import mean_squared_error\n",
    "\n",
    "# Load dataset\n",
    "\n",
    "df = df_cleaned\n",
    "\n",
    "# Target variable\n",
    "target = 'price'\n",
    "\n",
    "# Features (excluding the target)\n",
    "X = df.drop(columns=[target])\n",
    "y = df[target]\n",
    "\n",
    "# Identify categorical features (object columns)\n",
    "cat_features = X.select_dtypes(include='object').columns.tolist()\n",
    "\n",
    "# Split the data\n",
    "X_train, X_test, y_train, y_test = train_test_split(X, y, test_size=0.2, random_state=42)\n",
    "\n",
    "# Create CatBoost Pool (handles categorical features internally)\n",
    "train_pool = Pool(data=X_train, label=y_train, cat_features=cat_features)\n",
    "test_pool = Pool(data=X_test, label=y_test, cat_features=cat_features)\n",
    "\n",
    "# Initialize and train CatBoost Regressor\n",
    "model = CatBoostRegressor(verbose=100, iterations=1000, learning_rate=0.1, depth=6)\n",
    "model.fit(train_pool)\n",
    "\n",
    "# Make predictions\n",
    "y_pred = model.predict(test_pool)\n",
    "\n",
    "\n"
   ]
  },
  {
   "cell_type": "code",
   "execution_count": 20,
   "id": "4cbdb806-1fcc-4b5a-81bb-da13f7dc5419",
   "metadata": {},
   "outputs": [
    {
     "name": "stdout",
     "output_type": "stream",
     "text": [
      "Root Mean Squared Error (RMSE): 8672.19\n",
      "R² Score: 0.7862\n"
     ]
    },
    {
     "name": "stderr",
     "output_type": "stream",
     "text": [
      "C:\\Users\\mohan\\anaconda3\\Lib\\site-packages\\sklearn\\metrics\\_regression.py:492: FutureWarning: 'squared' is deprecated in version 1.4 and will be removed in 1.6. To calculate the root mean squared error, use the function'root_mean_squared_error'.\n",
      "  warnings.warn(\n"
     ]
    }
   ],
   "source": [
    "from sklearn.metrics import mean_squared_error, r2_score\n",
    "\n",
    "# RMSE (lower is better)\n",
    "rmse = mean_squared_error(y_test, y_pred, squared=False)\n",
    "print(f\"Root Mean Squared Error (RMSE): {rmse:.2f}\")\n",
    "\n",
    "# R² Score (closer to 1.0 is better)\n",
    "r2 = r2_score(y_test, y_pred)\n",
    "print(f\"R² Score: {r2:.4f}\")\n"
   ]
  },
  {
   "cell_type": "code",
   "execution_count": null,
   "id": "6793dd53-3f80-4c13-b30f-47f45a97e6d5",
   "metadata": {},
   "outputs": [],
   "source": []
  },
  {
   "cell_type": "code",
   "execution_count": 24,
   "id": "42ea3033-2c7d-4893-aa7e-7df23a5c3c6f",
   "metadata": {},
   "outputs": [],
   "source": [
    "def predict_price_from_input(model, cat_features):\n",
    "    # Example input prompt (customize or replace with a form in Streamlit/Flask/UI)\n",
    "    user_input =input {\n",
    "        'name': input(\"Enter vehicle name: \"),\n",
    "        'description': input(\"Enter description: \"),\n",
    "        'make': input(\"Enter make (e.g., Jeep, GMC): \"),\n",
    "        'model': input(\"Enter model (e.g., Cherokee, Yukon): \"),\n",
    "        'year': int(input(\"Enter year: \")),\n",
    "        'engine': input(\"Enter engine type: \"),\n",
    "        'cylinders': float(input(\"Enter number of cylinders: \")),\n",
    "        'fuel': input(\"Enter fuel type (Gasoline/Diesel): \"),\n",
    "        'mileage': float(input(\"Enter mileage: \")),\n",
    "        'transmission': input(\"Enter transmission type: \"),\n",
    "        'trim': input(\"Enter trim level: \"),\n",
    "        'body': input(\"Enter body type (SUV, Truck, etc.): \"),\n",
    "        'doors': float(input(\"Enter number of doors: \")),\n",
    "        'exterior_color': input(\"Enter exterior color: \"),\n",
    "        'interior_color': input(\"Enter interior color: \"),\n",
    "        'drivetrain': input(\"Enter drivetrain (e.g., FWD, AWD): \")\n",
    "    }\n",
    "\n",
    "    # Convert to DataFrame\n",
    "    user_df = pd.DataFrame([user_input])\n",
    "\n",
    "    # Ensure categorical features are consistent\n",
    "    for col in cat_features:\n",
    "        user_df[col] = user_df[col].astype(str)\n",
    "\n",
    "    # Predict\n",
    "    prediction = model.predict(user_df)[0]\n",
    "    print(f\"\\n💰 Predicted Price: ${prediction:,.2f}\")\n"
   ]
  },
  {
   "cell_type": "code",
   "execution_count": 25,
   "id": "1907b344-dd3a-4723-94e4-9ad0e1d60106",
   "metadata": {},
   "outputs": [
    {
     "name": "stdin",
     "output_type": "stream",
     "text": [
      "Enter vehicle name:  2024 Jeep Wagoneer Series II\n",
      "Enter description:  \"                Heated Leather Seats, Nav System, Moonroof, Third Row Seat, 4x4, Turbo Charged Engine, Hitch, ENGINE: 3.0L I6 HURRICANE SO TWIN TUR... Quad Bucket Seats. Series II Carbide trim, Bright White Clearcoat exterior and Global Black interior KEY FEATURES INCLUDELeather Seats, Navigation, 4x4, Power Liftgate, Rear Air OPTION PACKAGESQUICK ORDER PACKAGE 25F CARBIDE Engine: 3.0L I6 Hurricane SO Twin Turbo ESS, Transmission: 8-Speed Automatic (8HP75), Reversible Carpet/Vinyl Cargo Mat, Cargo Cover, Black Interior Accents, Carbide Appearance Package, 3 Panel Sunroof, Adjustable Roof Rail Crossbars, Piano Black Exterior Accents, HD TRAILER TOW PACKAGE Trailer Brake Control, Heavy Duty Engine Cooling, Electronic Rear Limited Slip Differential, Black Tow Hooks, Removable Rear Tow Hook, Trailer Hitch Zoom, 2 Speed On Demand Transfer Case, Wheels: 22 x 9.0 Painted Gloss Black, 3.92 Rear Axle Ratio, Selec-Speed Control, FLEXIBLE SEATING GROUP 60/40 Power Recline 3rd Row Seat, Power Tip/Slide Recline 2nd Row Buckets, 7 Passenger Seating, Floor Console w/Cupholder, TRANSMISSION: 8-SPEED AUTOMATIC (8HP75) (STD), ENGINE: 3.0L I6 HURRICANE SO TWIN TURBO ESS (STD). OUR OFFERINGSOur team has been serving our hometown of Rockwall, along with the communities of Terrell, Rowlett, Wylie and others for a long timelonger than many of you might have owned your current car, in fact. With those years of experience comes expertise in auto sales, finance and maintenance, which we put to your advantage. Were excited to show you how! Please confirm the accuracy of the included equipment by calling us prior to purchase.             Shop The Rock!\"\n",
      "Enter make (e.g., Jeep, GMC):  Jeep\n",
      "Enter model (e.g., Cherokee, Yukon):  Wagoneer\n",
      "Enter year:  2024\n",
      "Enter engine type:  24V GDI DOHC Twin Turbo\n",
      "Enter number of cylinders:  6\n",
      "Enter fuel type (Gasoline/Diesel):  Gasoline\n",
      "Enter mileage:  10\n",
      "Enter transmission type:  8-Speed Automatic\n",
      "Enter trim level:  Series II\n",
      "Enter body type (SUV, Truck, etc.):  SUV\n",
      "Enter number of doors:  4\n",
      "Enter exterior color:  White\n",
      "Enter interior color:  Global Black\n",
      "Enter drivetrain (e.g., FWD, AWD):  Four-wheel Drive\n"
     ]
    },
    {
     "name": "stdout",
     "output_type": "stream",
     "text": [
      "\n",
      "💰 Predicted Price: $81,053.65\n"
     ]
    }
   ],
   "source": [
    "predict_price_from_input(model, cat_features)\n"
   ]
  },
  {
   "cell_type": "code",
   "execution_count": null,
   "id": "6e733910-a14d-4f53-a32d-76a896f9f676",
   "metadata": {},
   "outputs": [],
   "source": [
    "#For most practical applications like consumer-facing tools, 8–9% error is quite acceptable — especially with an RMSE around $8.6k and R² near 0.79."
   ]
  },
  {
   "cell_type": "code",
   "execution_count": 26,
   "id": "5eb799aa-2f58-45a2-b39e-eabab1c15d7d",
   "metadata": {},
   "outputs": [
    {
     "name": "stdin",
     "output_type": "stream",
     "text": [
      "Enter vehicle name:  2024 Jeep Grand Cherokee Laredo\n",
      "Enter description:  Al West is committed to offering every customer up-front value pricing, in-depth vehicle history reports, and limited warranties on every vehicle we sell. Al West has been locally family owned and operated since 1969 and has an A+ BBB rating.\n",
      "Enter make (e.g., Jeep, GMC):  Jeep\n",
      "Enter model (e.g., Cherokee, Yukon):  Grand Cherokee\n",
      "Enter year:  2024\n",
      "Enter engine type:  OHV\n",
      "Enter number of cylinders:  6\n",
      "Enter fuel type (Gasoline/Diesel):  Gasoline\n",
      "Enter mileage:  1\n",
      "Enter transmission type:  8-Speed Automatic\n",
      "Enter trim level:  8-Speed Automatic\n",
      "Enter body type (SUV, Truck, etc.):  SUV\n",
      "Enter number of doors:  4\n",
      "Enter exterior color:  Metallic\n",
      "Enter interior color:  Global Black\n",
      "Enter drivetrain (e.g., FWD, AWD):  Four-wheel Drive\n"
     ]
    },
    {
     "name": "stdout",
     "output_type": "stream",
     "text": [
      "\n",
      "💰 Predicted Price: $56,894.00\n"
     ]
    }
   ],
   "source": [
    "predict_price_from_input(model, cat_features)"
   ]
  },
  {
   "cell_type": "code",
   "execution_count": null,
   "id": "afacd375-f21e-4f5e-bba6-eb6f2be5991f",
   "metadata": {},
   "outputs": [],
   "source": [
    "#Real price is  $50,170"
   ]
  }
 ],
 "metadata": {
  "kernelspec": {
   "display_name": "Python 3 (ipykernel)",
   "language": "python",
   "name": "python3"
  },
  "language_info": {
   "codemirror_mode": {
    "name": "ipython",
    "version": 3
   },
   "file_extension": ".py",
   "mimetype": "text/x-python",
   "name": "python",
   "nbconvert_exporter": "python",
   "pygments_lexer": "ipython3",
   "version": "3.12.7"
  }
 },
 "nbformat": 4,
 "nbformat_minor": 5
}
